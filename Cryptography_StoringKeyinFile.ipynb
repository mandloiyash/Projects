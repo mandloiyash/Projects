{
 "cells": [
  {
   "cell_type": "code",
   "execution_count": 1,
   "metadata": {},
   "outputs": [
    {
     "name": "stdout",
     "output_type": "stream",
     "text": [
      "Enter Message : Heyyy!!! How are you ???\n",
      "b'gAAAAABf2MePYXo5OH2ANZwhdvmAapNfJvbthiQj6oemsuA_4L-71Id4n8LkvIeeJmAku8--xQ7wLujCuHS6A9O5s26QqeOPGsEt0pVcr339GIkJVZu1G8g='\n",
      "b'Heyyy!!! How are you ???'\n"
     ]
    }
   ],
   "source": [
    "import cryptography as cryptography\n",
    "\n",
    "from cryptography.fernet import Fernet\n",
    "# Put this somewhere safe!\n",
    "\n",
    "def generatepasskey():\n",
    "    key = Fernet.generate_key()\n",
    "    abc=open(\"PassowrdKey.key\",\"wb\")\n",
    "    abc.write(key)\n",
    "    abc.close()\n",
    "\n",
    "def getkey():\n",
    "    abc = open(\"PassowrdKey.key\",\"rb\")\n",
    "    key = abc.read()\n",
    "    abc.close()\n",
    "    return key\n",
    "\n",
    "def getContentFromUser():\n",
    "    return input(\"Enter Message : \")\n",
    "\n",
    "def encryptMessage(message):\n",
    "    key = getkey()\n",
    "    k = Fernet(key)\n",
    "    encrypted_message= k.encrypt(message)\n",
    "    return encrypted_message\n",
    "def decryptMessage(encryptMsg):\n",
    "    key = getkey()\n",
    "    k = Fernet(key)\n",
    "    decrypted_Message = k.decrypt(encryptMsg)\n",
    "    return decrypted_Message\n",
    "\n",
    "if __name__ == '__main__':\n",
    "    generatepasskey()\n",
    "    message =  getContentFromUser()\n",
    "    encrypt = encryptMessage(message.encode())\n",
    "    print(encrypt)\n",
    "    decrypt = decryptMessage(encrypt)\n",
    "    print(decrypt)"
   ]
  },
  {
   "cell_type": "code",
   "execution_count": null,
   "metadata": {},
   "outputs": [],
   "source": []
  }
 ],
 "metadata": {
  "kernelspec": {
   "display_name": "Python 3",
   "language": "python",
   "name": "python3"
  },
  "language_info": {
   "codemirror_mode": {
    "name": "ipython",
    "version": 3
   },
   "file_extension": ".py",
   "mimetype": "text/x-python",
   "name": "python",
   "nbconvert_exporter": "python",
   "pygments_lexer": "ipython3",
   "version": "3.8.3"
  }
 },
 "nbformat": 4,
 "nbformat_minor": 4
}
