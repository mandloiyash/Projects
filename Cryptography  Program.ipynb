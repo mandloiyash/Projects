{
 "cells": [
  {
   "cell_type": "markdown",
   "metadata": {},
   "source": [
    "# Cryptography Program"
   ]
  },
  {
   "cell_type": "code",
   "execution_count": 1,
   "metadata": {},
   "outputs": [
    {
     "name": "stdout",
     "output_type": "stream",
     "text": [
      "Enter Message : heyyyy\n",
      "b'gAAAAABf2MP2eLxIqrEjBzTmBAQOzA3rD6AYdsiZaObuCZJ9wkEb69k_T9KFmEPa2nhLxzBEJsvUi_gJAzp-D1GymDISu4gUng=='\n",
      "b'heyyyy'\n"
     ]
    }
   ],
   "source": [
    "import cryptography as cryptography\n",
    "from cryptography.fernet import Fernet\n",
    "# Put this somewhere safe!\n",
    "global key2\n",
    "\n",
    "def encryptMessage(message):\n",
    "    k = Fernet(key2)\n",
    "    encrypted_message= k.encrypt(message)\n",
    "    return encrypted_message\n",
    "def decryptMessage(encryptMsg):\n",
    "    k = Fernet(key2)\n",
    "    decrypted_Message = k.decrypt(encryptMsg)\n",
    "    return decrypted_Message\n",
    "\n",
    "if __name__ == '__main__':\n",
    "    key2 = Fernet.generate_key()\n",
    "    message =  input(\"Enter Message : \")\n",
    "    encrypt = encryptMessage(message.encode())\n",
    "    print(encrypt)\n",
    "    decrypt = decryptMessage(encrypt)\n",
    "    print(decrypt)\n"
   ]
  },
  {
   "cell_type": "code",
   "execution_count": null,
   "metadata": {},
   "outputs": [],
   "source": []
  }
 ],
 "metadata": {
  "kernelspec": {
   "display_name": "Python 3",
   "language": "python",
   "name": "python3"
  },
  "language_info": {
   "codemirror_mode": {
    "name": "ipython",
    "version": 3
   },
   "file_extension": ".py",
   "mimetype": "text/x-python",
   "name": "python",
   "nbconvert_exporter": "python",
   "pygments_lexer": "ipython3",
   "version": "3.8.3"
  }
 },
 "nbformat": 4,
 "nbformat_minor": 4
}
